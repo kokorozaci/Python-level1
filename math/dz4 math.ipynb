{
  "nbformat": 4,
  "nbformat_minor": 0,
  "metadata": {
    "colab": {
      "name": "Untitled11.ipynb",
      "provenance": []
    },
    "kernelspec": {
      "name": "python3",
      "display_name": "Python 3"
    }
  },
  "cells": [
    {
      "cell_type": "code",
      "metadata": {
        "id": "zc0vdSLdHsU5",
        "colab_type": "code",
        "colab": {}
      },
      "source": [
        "1. Задание (на листочке)\n",
        "Решите уравнение \n",
        "sin(x)/x=0.\n",
        "\n",
        "ОДЗ\n",
        "x != 0\n",
        "\n",
        "sin(x) = 0  ==> x = pi*k (k - целое число)\n",
        "\n",
        "2. Задание (на листочке)\n",
        "Даны три прямые y=k1*x+b1, y=k2*x+b2,, y=k3*x+b3. Как узнать, пересекаются они в одной точке или нет?\n",
        "\n",
        "y = k1*x + b1\n",
        "y = k2*x + b2\n",
        "y = k3*x + b3\n",
        "\n",
        "ищем x, y из любых 2-х уравнений \n",
        "x = (b2-b1)/(k1-k2)\n",
        "y = k1*(b2-b1)/(k1-k2) + b1\n",
        "\n",
        "в 3-е уравнние подставляем x, y, если равенство верно, то прямые пересекаются в 1 точке\n"
      ],
      "execution_count": 0,
      "outputs": []
    },
    {
      "cell_type": "code",
      "metadata": {
        "id": "5vLbW9YGm8b1",
        "colab_type": "code",
        "colab": {}
      },
      "source": [
        "%matplotlib inline\n",
        "import numpy as np\n",
        "import matplotlib.pyplot as plt\n",
        "import math"
      ],
      "execution_count": 0,
      "outputs": []
    },
    {
      "cell_type": "markdown",
      "metadata": {
        "id": "1yGNOwjE8XIS",
        "colab_type": "text"
      },
      "source": [
        "На листе тетради «в линейку» (расстояние между линиями равно а) лежит игла (длиной b). Координаты нижней точки иглы (х,у), игла лежит под углом alfa. Пересекает ли игла линию или нет?"
      ]
    },
    {
      "cell_type": "code",
      "metadata": {
        "id": "rxPt-hsc8Vx8",
        "colab_type": "code",
        "colab": {
          "base_uri": "https://localhost:8080/",
          "height": 54
        },
        "outputId": "7537a210-d5d0-4352-c737-897e462bdc70"
      },
      "source": [
        "a = 5\n",
        "b = 15\n",
        "x, y = 2, 3\n",
        "alfa = 18/180*np.pi\n",
        "sin_alfa = x/b\n",
        "c = b*np.sin(alfa)\n",
        "print(c)\n",
        "if c>a:\n",
        "  print('Пересекает')\n",
        "else:\n",
        "  print('Не пересекает')"
      ],
      "execution_count": 82,
      "outputs": [
        {
          "output_type": "stream",
          "text": [
            "4.635254915624211\n",
            "Не пересекает\n"
          ],
          "name": "stdout"
        }
      ]
    },
    {
      "cell_type": "markdown",
      "metadata": {
        "id": "mkr-aV618b-C",
        "colab_type": "text"
      },
      "source": [
        "Решите аналитически и потом численно (в программе) уравнение, зависящее от параметра а: \n",
        "sin(а*x)=0\n",
        "при условии: 0.01<a<0.02, 100<х<500.\n",
        "Т.е. надо найти решение х как функцию параметра а - построить график x=x(а).\n",
        "Если численным методом не получается найти все ветви решения x(а), то отыщите хотя бы одну.\n"
      ]
    },
    {
      "cell_type": "code",
      "metadata": {
        "id": "4Y5iEktCnHO0",
        "colab_type": "code",
        "colab": {
          "base_uri": "https://localhost:8080/",
          "height": 334
        },
        "outputId": "b3b44556-ca52-4779-c2ae-260c82a2c33c"
      },
      "source": [
        "x = np.linspace(100, 500, 300)\n",
        "a = np.linspace(0.01, 0.02, 300)\n",
        "k = []\n",
        "k_new1 = []\n",
        "for i in a:\n",
        "  for j in x:\n",
        "    k.append((i*j)/np.pi)\n",
        "k_new = map(int, k)\n",
        "k_new = list(set(k_new))\n",
        "print(k_new) \n",
        "for k_0 in k_new:\n",
        "  x = (np.pi*k_0)/a\n",
        "  if x[0]>500:\n",
        "    break\n",
        "  if x[-1]>100:\n",
        "    k_new1.append(k_0)\n",
        "#sin(a*x)=0, a*x = pi*k, к соответствующее диапазонам = 1 => x = pi/a\n",
        "print(k_new1)\n",
        "x1 = np.pi/a\n",
        "plt.plot(x1,a)\n",
        "plt.xlabel(\"x\")\n",
        "plt.ylabel(\"y\")"
      ],
      "execution_count": 41,
      "outputs": [
        {
          "output_type": "stream",
          "text": [
            "[0, 1, 2, 3]\n",
            "[1]\n"
          ],
          "name": "stdout"
        },
        {
          "output_type": "execute_result",
          "data": {
            "text/plain": [
              "Text(0, 0.5, 'y')"
            ]
          },
          "metadata": {
            "tags": []
          },
          "execution_count": 41
        },
        {
          "output_type": "display_data",
          "data": {
            "image/png": "[encoded data removed]",
            "text/plain": [
              "<Figure size 432x288 with 1 Axes>"
            ]
          },
          "metadata": {
            "tags": []
          }
        }
      ]
    },
    {
      "cell_type": "markdown",
      "metadata": {
        "id": "XHRM2jH5Hnax",
        "colab_type": "text"
      },
      "source": [
        "4*y - 3*x + 12 = 0\n",
        "\n",
        "7*y + x - 14 = 0\n",
        "найти угол альфа"
      ]
    },
    {
      "cell_type": "code",
      "metadata": {
        "id": "pZe1aH0PJc8l",
        "colab_type": "code",
        "colab": {
          "base_uri": "https://localhost:8080/",
          "height": 35
        },
        "outputId": "9ee4b4fa-1481-49ad-8764-a302b3041a65"
      },
      "source": [
        "a1, b1, c1 = 4, -3, 12\n",
        "a2, b2, c2 = 7, 1, -14\n",
        "tg_alfa = (a2*b1-a1*b2)/(a1*a2+b1*b2)\n",
        "alfa = np.arctan(tg_alfa)\n",
        "print(alfa/np.pi*180)"
      ],
      "execution_count": 86,
      "outputs": [
        {
          "output_type": "stream",
          "text": [
            "-45.0\n"
          ],
          "name": "stdout"
        }
      ]
    },
    {
      "cell_type": "markdown",
      "metadata": {
        "id": "9lvwXxliLW_f",
        "colab_type": "text"
      },
      "source": [
        "17.6.4\n",
        "alfa = 0, тк обе прямые параллельны оси х (или y в данном случае)"
      ]
    },
    {
      "cell_type": "markdown",
      "metadata": {
        "id": "LgOK8e30N79W",
        "colab_type": "text"
      },
      "source": [
        "y^2-2*x-2*y-5=0\n",
        "парабола"
      ]
    },
    {
      "cell_type": "markdown",
      "metadata": {
        "id": "nLv632z1Q2Jl",
        "colab_type": "text"
      },
      "source": [
        "3*x^2 +5*y^2 +12*x - 30*y+42=0\n",
        "\n",
        "элипс (центр (-3, -2))\n",
        "\n",
        "2*x^2-y^2+6*y-7=0\n",
        "\n",
        "(y+3)^2/2-x^2=1  гипербола\n",
        "\n",
        "(x-7)^2/3-(y-7)^2/2 = 1\n",
        "\n",
        "тоже гипербола"
      ]
    }
  ]
}