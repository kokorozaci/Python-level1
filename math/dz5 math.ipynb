{
  "nbformat": 4,
  "nbformat_minor": 0,
  "metadata": {
    "colab": {
      "name": "Copy of Копия 4.1.ipynb",
      "provenance": []
    },
    "language_info": {
      "codemirror_mode": {
        "name": "ipython",
        "version": 3
      },
      "file_extension": ".py",
      "mimetype": "text/x-python",
      "name": "python",
      "nbconvert_exporter": "python",
      "pygments_lexer": "ipython3",
      "version": "3.6.0"
    },
    "kernelspec": {
      "display_name": "Python 3",
      "language": "python",
      "name": "python3"
    }
  },
  "cells": [
    {
      "cell_type": "code",
      "metadata": {
        "id": "Fua95t3FpHHS",
        "colab_type": "code",
        "colab": {}
      },
      "source": [
        "%matplotlib inline\n",
        "import numpy as np\n",
        "import matplotlib.pyplot as plt\n",
        "import matplotlib.mlab as mlab"
      ],
      "execution_count": 0,
      "outputs": []
    },
    {
      "cell_type": "code",
      "metadata": {
        "id": "6SIaQxfYpHHe",
        "colab_type": "code",
        "colab": {}
      },
      "source": [
        "for i in range(0, 5):\n",
        "    #a = input()\n",
        "    x = np.random.uniform(0, 37)\n",
        "    print(x//1)"
      ],
      "execution_count": 0,
      "outputs": []
    },
    {
      "cell_type": "markdown",
      "metadata": {
        "id": "GiwHkBDXfl39",
        "colab_type": "text"
      },
      "source": [
        "\n",
        "Напишите код, проверяющий любую из теорем сложения или умножения вероятности на примере рулетки или подбрасывания монетки.\n",
        "Сгенерируйте десять выборок случайных чисел х0, …, х9.\n",
        "и постройте гистограмму распределения случайной суммы х0+х1+ …+ х9."
      ]
    },
    {
      "cell_type": "code",
      "metadata": {
        "id": "2MXZXNt4pHHj",
        "colab_type": "code",
        "colab": {
          "base_uri": "https://localhost:8080/",
          "height": 72
        },
        "outputId": "aac3a136-b248-4faf-9200-acfa85f58361"
      },
      "source": [
        "k = np.zeros(37)\n",
        "n = 1000\n",
        "for i in range(0, n):\n",
        "    x = np.random.uniform(0, 37)\n",
        "    k[int(x//1)] +=1\n",
        "print(k)"
      ],
      "execution_count": 15,
      "outputs": [
        {
          "output_type": "stream",
          "text": [
            "[25. 22. 30. 31. 31. 26. 30. 33. 24. 25. 17. 40. 35. 27. 30. 26. 36. 17.\n",
            " 29. 31. 28. 24. 30. 19. 17. 24. 35. 31. 22. 20. 34. 20. 24. 27. 27. 27.\n",
            " 26.]\n"
          ],
          "name": "stdout"
        }
      ]
    },
    {
      "cell_type": "code",
      "metadata": {
        "id": "83HznaVJhION",
        "colab_type": "code",
        "colab": {
          "base_uri": "https://localhost:8080/",
          "height": 145
        },
        "outputId": "228bd04f-a40f-45e4-e46d-605a8b41c1ee"
      },
      "source": [
        "n_p = np.sum(k)\n",
        "print(n)\n",
        "p = 1/37\n",
        "print(p)\n",
        "p_1 = k/n_p\n",
        "print(p_1)\n",
        "print(np.sum(p_1))\n"
      ],
      "execution_count": 22,
      "outputs": [
        {
          "output_type": "stream",
          "text": [
            "1000\n",
            "0.02702702702702703\n",
            "[0.025 0.022 0.03  0.031 0.031 0.026 0.03  0.033 0.024 0.025 0.017 0.04\n",
            " 0.035 0.027 0.03  0.026 0.036 0.017 0.029 0.031 0.028 0.024 0.03  0.019\n",
            " 0.017 0.024 0.035 0.031 0.022 0.02  0.034 0.02  0.024 0.027 0.027 0.027\n",
            " 0.026]\n",
            "1.0\n"
          ],
          "name": "stdout"
        }
      ]
    },
    {
      "cell_type": "code",
      "metadata": {
        "id": "EXa6pqVEgGau",
        "colab_type": "code",
        "colab": {
          "base_uri": "https://localhost:8080/",
          "height": 313
        },
        "outputId": "ee26577b-fe49-442a-f08f-ad49b48c7347"
      },
      "source": [
        "x_list = []\n",
        "for i in range(10):\n",
        "  x = np.random.rand(10)\n",
        "  x_list.append(np.sum(x))\n",
        "num_bins = 5\n",
        "n, bins, patches = plt.hist(x, num_bins)\n",
        "plt.xlabel('x')\n",
        "plt.ylabel('Probability')\n",
        "plt.title('Histogram')"
      ],
      "execution_count": 32,
      "outputs": [
        {
          "output_type": "execute_result",
          "data": {
            "text/plain": [
              "Text(0.5, 1.0, 'Histogram')"
            ]
          },
          "metadata": {
            "tags": []
          },
          "execution_count": 32
        },
        {
          "output_type": "display_data",
          "data": {
            "image/png": "[encoded data removed]",
            "text/plain": [
              "<Figure size 432x288 with 1 Axes>"
            ]
          },
          "metadata": {
            "tags": []
          }
        }
      ]
    },
    {
      "cell_type": "code",
      "metadata": {
        "id": "vbQGHqhqmG8N",
        "colab_type": "code",
        "colab": {}
      },
      "source": [
        "import itertools\n",
        "import math"
      ],
      "execution_count": 0,
      "outputs": []
    },
    {
      "cell_type": "code",
      "metadata": {
        "id": "HDZFZDLCmJCv",
        "colab_type": "code",
        "colab": {
          "base_uri": "https://localhost:8080/",
          "height": 54
        },
        "outputId": "82e6e5ec-37db-4c3b-db1c-80ba7287eebc"
      },
      "source": [
        "k, n = 0, 1000\n",
        "a = np.random.randint(0, 2, n)\n",
        "b = np.random.randint(0, 2, n)\n",
        "c = np.random.randint(0, 2, n)\n",
        "d = np.random.randint(0, 2, n)\n",
        "x = a + b + c + d\n",
        "for i in range(0, n):\n",
        "    if x[i] == 2:\n",
        "        k = k + 1\n",
        "c_n_k = math.factorial(4)/(math.factorial(2)*math.factorial(4-2))\n",
        "p = c_n_k/2**4\n",
        "#print(a, b, c, d)\n",
        "#print(x)\n",
        "print(k, n, k/n)\n",
        "print(f'{p} вероятность выпадения 2-х \"0\" и 2-х \"1\"')"
      ],
      "execution_count": 82,
      "outputs": [
        {
          "output_type": "stream",
          "text": [
            "374 1000 0.374\n",
            "0.375 вероятность выпадения 2-х \"0\" и 2-х \"1\"\n"
          ],
          "name": "stdout"
        }
      ]
    },
    {
      "cell_type": "code",
      "metadata": {
        "id": "aYf96mESyBef",
        "colab_type": "code",
        "colab": {
          "base_uri": "https://localhost:8080/",
          "height": 54
        },
        "outputId": "1c1d7487-b069-4266-ea0f-01c9a15182c6"
      },
      "source": [
        "k, n = 0, 1000\n",
        "a = np.random.randint(0, 2, n)\n",
        "b = np.random.randint(0, 2, n)\n",
        "c = np.random.randint(0, 2, n)\n",
        "d = np.random.randint(0, 2, n)\n",
        "e = np.random.randint(0, 2, n)\n",
        "x = a + b + c + d + e\n",
        "for i in range(0, n):\n",
        "    if x[i] == 3:\n",
        "        k = k + 1\n",
        "c_n_k = math.factorial(5)/(math.factorial(3)*math.factorial(5-3))\n",
        "p = c_n_k/2**5\n",
        "#print(a, b, c, d)\n",
        "#print(x)\n",
        "print(k, n, k/n)\n",
        "print(f'{p} вероятность выпадения 3-х \"1\" в 5 испытаниях')"
      ],
      "execution_count": 96,
      "outputs": [
        {
          "output_type": "stream",
          "text": [
            "325 1000 0.325\n",
            "0.3125 вероятность выпадения 3-х \"1\" в 5 испытаниях\n"
          ],
          "name": "stdout"
        }
      ]
    },
    {
      "cell_type": "code",
      "metadata": {
        "id": "tRvqgfiumN7i",
        "colab_type": "code",
        "colab": {
          "base_uri": "https://localhost:8080/",
          "height": 35
        },
        "outputId": "e4dc6f8a-dfa1-400f-e3b1-d6566d4eee8a"
      },
      "source": [
        "n, k = 52, 2\n",
        "c_n_k = math.factorial(n)/(math.factorial(k)*math.factorial(n-k))\n",
        "print(n, k, c_n_k)"
      ],
      "execution_count": 112,
      "outputs": [
        {
          "output_type": "stream",
          "text": [
            "52 2 1326.0\n"
          ],
          "name": "stdout"
        }
      ]
    },
    {
      "cell_type": "code",
      "metadata": {
        "id": "0lozqccg1MNc",
        "colab_type": "code",
        "colab": {
          "base_uri": "https://localhost:8080/",
          "height": 408
        },
        "outputId": "d3853f98-2e3e-4ee0-f741-e86d3afe107f"
      },
      "source": [
        "n = 100\n",
        "r = 0.6\n",
        "x = np.random.rand(n)\n",
        "y = r*x + (1 - r)*np.random.rand(n)\n",
        "plt.plot(x, y, 'o')\n",
        "plt.xlabel('x')\n",
        "plt.ylabel('y')\n",
        "plt.grid(True)\n",
        "\n",
        "a = (np.sum(x)*np.sum(y) - n*np.sum(x*y))/(np.sum(x)*np.sum(x) - n*np.sum(x*x))\n",
        "b = (np.sum(y) - a*np.sum(x))/n\n",
        "x_m = np.sum(x)/n \n",
        "y_m = np.sum(y)/n\n",
        "R = np.sum((x-x_m)*(y-y_m))/np.sqrt(np.sum((x-x_m)**2)*np.sum((y-y_m)**2))\n",
        "print(R) #расчитанный коэффециент корреляции\n",
        "print(np.corrcoef(np.array([x, y]))[0, 1]) # проверка\n",
        "\n",
        "A = np.vstack([x, np.ones(len(x))]).T\n",
        "a1, b1 = np.linalg.lstsq(A, y)[0]\n",
        "print(a, b)\n",
        "print(a1, b1)\n",
        "plt.plot([0, 1], [b, a + b])\n",
        "plt.show()"
      ],
      "execution_count": 137,
      "outputs": [
        {
          "output_type": "stream",
          "text": [
            "0.8554341658605268\n",
            "0.8554341658605268\n",
            "0.6804095732346157 0.1495909603756185\n",
            "0.6804095732346153 0.14959096037561864\n"
          ],
          "name": "stdout"
        },
        {
          "output_type": "stream",
          "text": [
            "/usr/local/lib/python3.6/dist-packages/ipykernel_launcher.py:19: FutureWarning: `rcond` parameter will change to the default of machine precision times ``max(M, N)`` where M and N are the input matrix dimensions.\n",
            "To use the future default and silence this warning we advise to pass `rcond=None`, to keep using the old, explicitly pass `rcond=-1`.\n"
          ],
          "name": "stderr"
        },
        {
          "output_type": "display_data",
          "data": {
            "image/png": "[encoded data removed]",
            "text/plain": [
              "<Figure size 432x288 with 1 Axes>"
            ]
          },
          "metadata": {
            "tags": []
          }
        }
      ]
    }
  ]
}