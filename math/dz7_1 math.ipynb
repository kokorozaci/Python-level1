{
  "nbformat": 4,
  "nbformat_minor": 0,
  "metadata": {
    "kernelspec": {
      "display_name": "Python 3",
      "language": "python",
      "name": "python3"
    },
    "language_info": {
      "codemirror_mode": {
        "name": "ipython",
        "version": 3
      },
      "file_extension": ".py",
      "mimetype": "text/x-python",
      "name": "python",
      "nbconvert_exporter": "python",
      "pygments_lexer": "ipython3",
      "version": "3.6.0"
    },
    "colab": {
      "name": "Copy of Копия 5.1.ipynb",
      "provenance": []
    }
  },
  "cells": [
    {
      "cell_type": "code",
      "metadata": {
        "id": "YWseyCH1Xe3U",
        "colab_type": "code",
        "colab": {}
      },
      "source": [
        "import numpy as np"
      ],
      "execution_count": 0,
      "outputs": []
    },
    {
      "cell_type": "markdown",
      "metadata": {
        "id": "r01T3Bqg5I75",
        "colab_type": "text"
      },
      "source": [
        "Вектор – это частный случай матрицы 1хN и Nх1. Повторите материал для векторов, уделяя особое внимание умножению A∙B.\n",
        "Вычислите, по возможности не используя программирование: (5Е)**–1, где Е – единичная матрица размера 5х5.\n",
        "\n",
        "обратная матица - 5**-1 * E (т.к. 5/5 = 1)\n",
        "\n",
        "\n"
      ]
    },
    {
      "cell_type": "code",
      "metadata": {
        "id": "MJ8BsQv9Xe46",
        "colab_type": "code",
        "colab": {
          "base_uri": "https://localhost:8080/",
          "height": 235
        },
        "outputId": "f7665356-0163-4de3-ea91-44222c852aa4"
      },
      "source": [
        "k = 2\n",
        "l = 3\n",
        "A = np.array([1, 2, 3])\n",
        "B = np.array([4, 5, 6])\n",
        "C = np.array([7, 8, 9])\n",
        "print((k*l)*A)\n",
        "print(k*(l*A))\n",
        "print(k*A+k*B)\n",
        "print(k*(A + B))\n",
        "print((k+l)*A)\n",
        "print(k*A + l*A)\n",
        "print(np.dot(np.dot(A, B),C))\n",
        "print(np.dot(np.dot(C, B),A))\n",
        "print(np.dot((A+B),C))\n",
        "print(np.dot(A, C) + np.dot(B, C))\n",
        "print(np.dot(A, (B+C)))\n",
        "print(np.dot(A, B)+ np.dot(A,C))"
      ],
      "execution_count": 59,
      "outputs": [
        {
          "output_type": "stream",
          "text": [
            "[ 6 12 18]\n",
            "[ 6 12 18]\n",
            "[10 14 18]\n",
            "[10 14 18]\n",
            "[ 5 10 15]\n",
            "[ 5 10 15]\n",
            "[224 256 288]\n",
            "[122 244 366]\n",
            "172\n",
            "172\n",
            "82\n",
            "82\n"
          ],
          "name": "stdout"
        }
      ]
    },
    {
      "cell_type": "markdown",
      "metadata": {
        "id": "1ubpecGlEXUb",
        "colab_type": "text"
      },
      "source": [
        "## $\\det A = \\left|\n",
        "\\begin{array}{cccc}\n",
        "1 & 2 & 3\\\\\n",
        "4 & 0 & 6\\\\\n",
        "7 & 8 & 9\n",
        "\\end{array}\n",
        "\\right|=\n",
        "1\\left| \n",
        "\\begin{array}{cccc}\n",
        "0 & 6\\\\ \n",
        "8 & 9\n",
        "\\end{array} \n",
        "\\right|\n",
        "-2\\left| \n",
        "\\begin{array}{cccc}\n",
        "4 & 6\\\\ \n",
        "7 & 9\n",
        "\\end{array} \n",
        "\\right|\n",
        "+3\\left| \n",
        "\\begin{array}{cccc}\n",
        "4 & 0\\\\ \n",
        "7 & 8\n",
        "\\end{array} \n",
        "\\right|=-48 + 12 + 96 = 60\n",
        "$"
      ]
    },
    {
      "cell_type": "markdown",
      "metadata": {
        "id": "PeWA8WLuGMK2",
        "colab_type": "text"
      },
      "source": [
        "\n"
      ]
    },
    {
      "cell_type": "code",
      "metadata": {
        "id": "tbzZC3RkEW3L",
        "colab_type": "code",
        "colab": {
          "base_uri": "https://localhost:8080/",
          "height": 72
        },
        "outputId": "784bb86b-d0ce-458a-b4fc-f15886b50d24"
      },
      "source": [
        "print(0*9-8*6, 4*9-7*6, 4*8-0, '\\n', 2*9-8*3, 1*9-3*7, 1*8-2*7, '\\n', 2*6-0, 1*6-4*3, -4*2)"
      ],
      "execution_count": 70,
      "outputs": [
        {
          "output_type": "stream",
          "text": [
            "-48 -6 32 \n",
            " -6 -12 -6 \n",
            " 12 -6 -8\n"
          ],
          "name": "stdout"
        }
      ]
    },
    {
      "cell_type": "code",
      "metadata": {
        "id": "ISHii1OsIZk8",
        "colab_type": "code",
        "colab": {
          "base_uri": "https://localhost:8080/",
          "height": 126
        },
        "outputId": "5f576961-ed26-45bc-99e9-5ba5a6de1815"
      },
      "source": [
        "A_m = np.array([[-48, 6, 32], [6, -12, 6], [12, 6, -8]]).T/60\n",
        "print(A_m)\n",
        "A = np.array([[1, 2, 3], [4, 0, 6], [7, 8, 9]])\n",
        "print(np.dot(A, A_m))"
      ],
      "execution_count": 71,
      "outputs": [
        {
          "output_type": "stream",
          "text": [
            "[[-0.8         0.1         0.2       ]\n",
            " [ 0.1        -0.2         0.1       ]\n",
            " [ 0.53333333  0.1        -0.13333333]]\n",
            "[[ 1.00000000e+00 -2.77555756e-17  2.77555756e-17]\n",
            " [-2.22044605e-16  1.00000000e+00  5.55111512e-17]\n",
            " [-7.77156117e-16  2.77555756e-17  1.00000000e+00]]\n"
          ],
          "name": "stdout"
        }
      ]
    },
    {
      "cell_type": "code",
      "metadata": {
        "id": "juvtBgVqLWnH",
        "colab_type": "code",
        "colab": {
          "base_uri": "https://localhost:8080/",
          "height": 108
        },
        "outputId": "654b3437-d4a8-42ef-be1b-90ba1a7e8319"
      },
      "source": [
        "D = np.array([[2, 2, 2, 2], [4, 4, 4, 4], [1, 1, 1, 1], [8, 8, 8, 8]])\n",
        "print(D)\n",
        "np.linalg.matrix_rank(D, 0.0001)"
      ],
      "execution_count": 78,
      "outputs": [
        {
          "output_type": "stream",
          "text": [
            "[[2 2 2 2]\n",
            " [4 4 4 4]\n",
            " [1 1 1 1]\n",
            " [8 8 8 8]]\n"
          ],
          "name": "stdout"
        },
        {
          "output_type": "execute_result",
          "data": {
            "text/plain": [
              "1"
            ]
          },
          "metadata": {
            "tags": []
          },
          "execution_count": 78
        }
      ]
    },
    {
      "cell_type": "markdown",
      "metadata": {
        "id": "0cOZvpYwM6qp",
        "colab_type": "text"
      },
      "source": [
        "Вычислите скалярное произведение двух векторов:  \n",
        "(1, 5)  и  (2, 8)\n",
        "\n",
        "2+5*8 = 42"
      ]
    },
    {
      "cell_type": "code",
      "metadata": {
        "id": "8UUcdCGDNTl0",
        "colab_type": "code",
        "colab": {
          "base_uri": "https://localhost:8080/",
          "height": 35
        },
        "outputId": "a210bdf8-2676-47c4-802b-1f8ca2d319eb"
      },
      "source": [
        "a = np.array([1, 5])\n",
        "b = np.array([2, 8])\n",
        "np.inner(a, b)\n"
      ],
      "execution_count": 83,
      "outputs": [
        {
          "output_type": "execute_result",
          "data": {
            "text/plain": [
              "42"
            ]
          },
          "metadata": {
            "tags": []
          },
          "execution_count": 83
        }
      ]
    },
    {
      "cell_type": "markdown",
      "metadata": {
        "id": "0YZUmQl4OLNh",
        "colab_type": "text"
      },
      "source": [
        "Вычислите смешанное произведение трех векторов:\n",
        "(1, 5, 0), (2, 8, 7) и (7, 1.5, 3) \n"
      ]
    },
    {
      "cell_type": "code",
      "metadata": {
        "id": "ZDkgGCQ9N5xv",
        "colab_type": "code",
        "colab": {
          "base_uri": "https://localhost:8080/",
          "height": 35
        },
        "outputId": "b4d6bb15-161c-45ee-9bf8-5d6d08ba22de"
      },
      "source": [
        "a = np.array([1, 5, 0], float)\n",
        "b = np.array([2, 8, 7], float)\n",
        "c = np.array([7, 1.5, 3], float)\n",
        "v = np.cross(a, b)\n",
        "print (np.inner(v, c))"
      ],
      "execution_count": 85,
      "outputs": [
        {
          "output_type": "stream",
          "text": [
            "228.5\n"
          ],
          "name": "stdout"
        }
      ]
    }
  ]
}